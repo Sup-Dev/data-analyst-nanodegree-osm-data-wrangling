{
 "cells": [
  {
   "cell_type": "markdown",
   "metadata": {},
   "source": [
    "## 1. Problems encountered in the map\n",
    "\n",
    "### I have downloaded a map of the New York City area and found some of the problems as follows.\n",
    "\n",
    "#### First lets find inconsistent postcode."
   ]
  },
  {
   "cell_type": "code",
   "execution_count": 1,
   "metadata": {
    "collapsed": true
   },
   "outputs": [],
   "source": [
    "from pymongo import MongoClient\n",
    "\n",
    "import re\n",
    "\n",
    "client = MongoClient(\"mongodb://localhost:27017\")\n",
    "db = client.osm\n",
    "\n",
    "postcode_regex = r'^[0-9]{5}$'"
   ]
  },
  {
   "cell_type": "markdown",
   "metadata": {},
   "source": [
    "Actual number of postcodes"
   ]
  },
  {
   "cell_type": "code",
   "execution_count": 2,
   "metadata": {
    "collapsed": false
   },
   "outputs": [
    {
     "data": {
      "text/plain": [
       "36992"
      ]
     },
     "execution_count": 2,
     "metadata": {},
     "output_type": "execute_result"
    }
   ],
   "source": [
    "db.nyc.count({\"addr.postcode\": {\"$exists\": 1}})"
   ]
  },
  {
   "cell_type": "markdown",
   "metadata": {},
   "source": [
    "Number of consistent postcodes."
   ]
  },
  {
   "cell_type": "code",
   "execution_count": 3,
   "metadata": {
    "collapsed": false
   },
   "outputs": [
    {
     "data": {
      "text/plain": [
       "36964"
      ]
     },
     "execution_count": 3,
     "metadata": {},
     "output_type": "execute_result"
    }
   ],
   "source": [
    "db.nyc.count({\"addr.postcode\": {\"$regex\": postcode_regex}})"
   ]
  },
  {
   "cell_type": "markdown",
   "metadata": {},
   "source": [
    "Lets not look at all the inconsistent postcodes"
   ]
  },
  {
   "cell_type": "code",
   "execution_count": 4,
   "metadata": {
    "collapsed": false
   },
   "outputs": [
    {
     "name": "stdout",
     "output_type": "stream",
     "text": [
      "12\n",
      "NY 10703\n",
      "NY 10533\n",
      "NY 10533\n",
      "NY 10533\n",
      "NY 10533\n",
      "NY 10533\n",
      "NY 10533\n",
      "NY 10533\n",
      "NY 10533\n",
      "NY 10533\n",
      "08854-8006\n",
      "08901-2867\n",
      "08854-8062\n",
      "08854-8020\n",
      "08901-8520\n",
      "08901-8529\n",
      "08901-8536\n",
      "08901-8519\n",
      "08901-2832\n",
      "08854-8009\n",
      "08854-8000\n",
      "08854-8063\n",
      "08854-8019\n",
      "08854-8031\n",
      "08901-8542\n",
      "08854-8040\n",
      "08901-8502\n"
     ]
    }
   ],
   "source": [
    "inconsistent_postcodes = db.nyc.find({\"addr.postcode\": {\"$not\": re.compile(postcode_regex), \"$exists\": 1}})\n",
    "\n",
    "for item in inconsistent_postcodes:\n",
    "    print(item['addr']['postcode'])"
   ]
  },
  {
   "cell_type": "markdown",
   "metadata": {},
   "source": [
    "There are three types of inconsistencies in the data. The first can be removed by dropping the \"NY\" and trimming the string for white spaces. And the second can be corrected by dropping the data after the \"-\". The finally one is invalid postcode.\n",
    "\n",
    "Lets, correct these two issues."
   ]
  },
  {
   "cell_type": "code",
   "execution_count": 5,
   "metadata": {
    "collapsed": false
   },
   "outputs": [],
   "source": [
    "inconsistent_postcodes = db.nyc.find({\"addr.postcode\": {\"$not\": re.compile(postcode_regex), \"$exists\": 1}})\n",
    "\n",
    "for item in inconsistent_postcodes:\n",
    "    postcode = item['addr']['postcode']\n",
    "    if postcode[:2] == 'NY':\n",
    "        cleaned_data = postcode[2:].strip()\n",
    "        item_id = item['_id']\n",
    "        db.nyc.update_one({'_id': item_id}, {\"$set\": {\"addr.postcode\": cleaned_data}})\n",
    "    elif '-' in postcode:\n",
    "        cleaned_data = postcode.split('-')[0]\n",
    "        item_id = item['_id']\n",
    "        db.nyc.update_one({'_id': item_id}, {\"$set\": {\"addr.postcode\": cleaned_data}})"
   ]
  },
  {
   "cell_type": "markdown",
   "metadata": {},
   "source": [
    "#### Now, lets check to see if there are any inconsistencies in the street address"
   ]
  },
  {
   "cell_type": "code",
   "execution_count": 6,
   "metadata": {
    "collapsed": false
   },
   "outputs": [
    {
     "name": "stdout",
     "output_type": "stream",
     "text": [
      "Convent Lane\n",
      "Monroe St\n",
      "1st St\n",
      "Park Ave\n",
      "Madison St\n",
      "Jackson St\n",
      "Clinton St\n",
      "2nd St\n",
      "Newark St\n",
      "4th St\n",
      "4th St\n",
      "3rd St\n",
      "Washington St\n",
      "Adams St\n",
      "Garden St\n",
      "Adams St\n",
      "Hudson St\n",
      "7th St\n",
      "Bloomfield St\n",
      "Clinton St\n",
      "Park Ave\n",
      "Madison St\n",
      "East 240th Street\n",
      "Webb Avenue\n",
      "Bainbridge Avenue\n",
      "Braddock Avenue\n",
      "Main Street\n",
      "White Plains Road\n",
      "East 2nd Street\n",
      "Amsterdam Avenue\n",
      "Front Street\n",
      "Grand Street\n",
      "St. Nicholas Avenue\n",
      "Old Mill Road\n",
      "Broadway\n",
      "Ellis Pky\n",
      "Broadway\n",
      "North End Avenue\n",
      "Chambers Street\n",
      "Speedwell Ave\n",
      "East 52nd Street\n",
      "West Beech Street\n",
      "West 58th Street\n",
      "56th Street\n",
      "South Orange Avenue\n",
      "Bedford Avenue\n",
      "Washington Avenue\n",
      "Sterling Place\n",
      "Nostrand Avenue\n",
      "Schenectady Avenue\n"
     ]
    }
   ],
   "source": [
    "inconsistent_streets = db.nyc.find({\"addr.street\": {\"$exists\": 1}}).limit(50)\n",
    "\n",
    "for item in inconsistent_streets:\n",
    "    print(item['addr']['street'])"
   ]
  },
  {
   "cell_type": "markdown",
   "metadata": {},
   "source": [
    "Three abbreviation are clearly noticeable. The first is that \"St\" is used instead of \"Street\" and \"Ave.\" is used in place of \"Avenue\". Finally, \"St.\" need to be changed to \"St.\"\n",
    "\n",
    "Lets fix these problems"
   ]
  },
  {
   "cell_type": "code",
   "execution_count": 7,
   "metadata": {
    "collapsed": false,
    "scrolled": true
   },
   "outputs": [
    {
     "name": "stdout",
     "output_type": "stream",
     "text": [
      "Monroe St\n",
      "1st St\n",
      "Madison St\n",
      "Jackson St\n",
      "Clinton St\n",
      "2nd St\n",
      "Newark St\n",
      "4th St\n",
      "4th St\n",
      "3rd St\n",
      "Washington St\n",
      "Adams St\n",
      "Garden St\n",
      "Adams St\n",
      "Hudson St\n",
      "7th St\n",
      "Bloomfield St\n",
      "Clinton St\n",
      "Madison St\n",
      "St. Nicholas Avenue\n",
      "Ellis Pky\n",
      "Springfield Ave.\n",
      "Franklin Ave.\n",
      "E 43rd St\n",
      "4th St\n",
      "7th St\n",
      "Bloomfield St\n",
      "Mitchell St\n",
      "Mitchell St\n"
     ]
    }
   ],
   "source": [
    "street_regex = \"((St|Pky|Ave\\.)$)|(^St.\\s)\"\n",
    "\n",
    "inconsistent_streets = db.nyc.find({\"addr.street\": {\"$regex\": re.compile(street_regex)}})\n",
    "\n",
    "for item in inconsistent_streets:\n",
    "    print(item['addr']['street'])"
   ]
  },
  {
   "cell_type": "markdown",
   "metadata": {},
   "source": [
    "Lets fix these two abbreviations."
   ]
  },
  {
   "cell_type": "code",
   "execution_count": 8,
   "metadata": {
    "collapsed": true
   },
   "outputs": [],
   "source": [
    "inconsistent_streets = db.nyc.find({\"addr.street\": {\"$regex\": re.compile(street_regex)}})\n",
    "\n",
    "for item in inconsistent_streets:\n",
    "    street = item['addr']['street']\n",
    "    if street[-2:] == \"St\":\n",
    "        cleaned_data = street + \"reet\"\n",
    "        item_id = item['_id']\n",
    "        db.nyc.update_one({'_id': item_id}, {\"$set\": {\"addr.street\": cleaned_data}})\n",
    "    elif street[:3] == \"St.\":\n",
    "        cleaned_data = \"Street\" + street[4:]\n",
    "        item_id = item['_id']\n",
    "        db.nyc.update_one({'_id': item_id}, {\"$set\": {\"addr.street\": cleaned_data}})\n",
    "    elif street[-4:] == \"Ave.\":\n",
    "        cleaned_data = street[:-1] + \"nue\"\n",
    "        item_id = item['_id']\n",
    "        db.nyc.update_one({'_id': item_id}, {\"$set\": {\"addr.street\": cleaned_data}})\n",
    "    elif street[-3:] == \"Pky\":\n",
    "        cleaned_data = street[:-3] + \"Parkway\"\n",
    "        item_id = item['_id']\n",
    "        db.nyc.update_one({'_id': item_id}, {\"$set\": {\"addr.street\": cleaned_data}})"
   ]
  },
  {
   "cell_type": "markdown",
   "metadata": {},
   "source": [
    "While querying for the above abbreviations we have found another abbreviation, \"E\" is used in place of \"East\". Lets try and look if there are more direction based streets."
   ]
  },
  {
   "cell_type": "code",
   "execution_count": 9,
   "metadata": {
    "collapsed": false
   },
   "outputs": [
    {
     "name": "stdout",
     "output_type": "stream",
     "text": [
      "W 27th\n",
      "E 43rd Street\n"
     ]
    }
   ],
   "source": [
    "direction_street_regex = \"^[NSEW]\\s\"\n",
    "\n",
    "inconsistent_streets = db.nyc.find({\"addr.street\": {\"$regex\": re.compile(direction_street_regex)}})\n",
    "\n",
    "for item in inconsistent_streets:\n",
    "    print(item['addr']['street'])"
   ]
  },
  {
   "cell_type": "markdown",
   "metadata": {},
   "source": [
    "Lets fix this directional the abbreviations."
   ]
  },
  {
   "cell_type": "code",
   "execution_count": 10,
   "metadata": {
    "collapsed": true
   },
   "outputs": [],
   "source": [
    "inconsistent_streets = db.nyc.find({\"addr.street\": {\"$regex\": re.compile(direction_street_regex)}})\n",
    "\n",
    "for item in inconsistent_streets:\n",
    "    street = item['addr']['street']\n",
    "    if street[0] == \"N\":\n",
    "        cleaned_data = \"North\" + street[1:]\n",
    "        item_id = item['_id']\n",
    "        db.nyc.update_one({'_id': item_id}, {\"$set\": {\"addr.street\": cleaned_data}})\n",
    "    elif street[0] == \"S\":\n",
    "        cleaned_data = \"South\" + street[1:]\n",
    "        item_id = item['_id']\n",
    "        db.nyc.update_one({'_id': item_id}, {\"$set\": {\"addr.street\": cleaned_data}})\n",
    "    elif street[0] == \"E\":\n",
    "        cleaned_data = \"East\" + street[1:]\n",
    "        item_id = item['_id']\n",
    "        db.nyc.update_one({'_id': item_id}, {\"$set\": {\"addr.street\": cleaned_data}})\n",
    "    elif street[0] == \"W\":\n",
    "        cleaned_data = \"West\" + street[1:]\n",
    "        item_id = item['_id']\n",
    "        db.nyc.update_one({'_id': item_id}, {\"$set\": {\"addr.street\": cleaned_data}})"
   ]
  },
  {
   "cell_type": "markdown",
   "metadata": {},
   "source": [
    "## 2. Data Overview\n",
    "\n",
    "This section contains basic statistics about the dataset and the MongoDB queries used to gather them.\n",
    "\n",
    "### File Size\n",
    "* sample.osm ............ 96.9MB\n",
    "* sample.osm.json ....... 137.5MB\n",
    "\n",
    "#### Number of documents"
   ]
  },
  {
   "cell_type": "code",
   "execution_count": 11,
   "metadata": {
    "collapsed": false
   },
   "outputs": [
    {
     "data": {
      "text/plain": [
       "446087"
      ]
     },
     "execution_count": 11,
     "metadata": {},
     "output_type": "execute_result"
    }
   ],
   "source": [
    "db.nyc.count()"
   ]
  },
  {
   "cell_type": "markdown",
   "metadata": {},
   "source": [
    "#### Number of nodes"
   ]
  },
  {
   "cell_type": "code",
   "execution_count": 12,
   "metadata": {
    "collapsed": false
   },
   "outputs": [
    {
     "data": {
      "text/plain": [
       "383534"
      ]
     },
     "execution_count": 12,
     "metadata": {},
     "output_type": "execute_result"
    }
   ],
   "source": [
    "db.nyc.count({\"type\": \"node\"})"
   ]
  },
  {
   "cell_type": "markdown",
   "metadata": {},
   "source": [
    "#### Number of ways"
   ]
  },
  {
   "cell_type": "code",
   "execution_count": 13,
   "metadata": {
    "collapsed": false
   },
   "outputs": [
    {
     "data": {
      "text/plain": [
       "62525"
      ]
     },
     "execution_count": 13,
     "metadata": {},
     "output_type": "execute_result"
    }
   ],
   "source": [
    "db.nyc.count({\"type\": \"way\"})"
   ]
  },
  {
   "cell_type": "markdown",
   "metadata": {},
   "source": [
    "#### Number of unique users"
   ]
  },
  {
   "cell_type": "code",
   "execution_count": 14,
   "metadata": {
    "collapsed": false
   },
   "outputs": [
    {
     "data": {
      "text/plain": [
       "1663"
      ]
     },
     "execution_count": 14,
     "metadata": {},
     "output_type": "execute_result"
    }
   ],
   "source": [
    "len(db.nyc.distinct(\"created.user\"))"
   ]
  },
  {
   "cell_type": "markdown",
   "metadata": {},
   "source": [
    "#### Number of schools"
   ]
  },
  {
   "cell_type": "code",
   "execution_count": 21,
   "metadata": {
    "collapsed": false
   },
   "outputs": [
    {
     "data": {
      "text/plain": [
       "189"
      ]
     },
     "execution_count": 21,
     "metadata": {},
     "output_type": "execute_result"
    }
   ],
   "source": [
    "db.nyc.count({\"amenity\": \"school\"})"
   ]
  },
  {
   "cell_type": "markdown",
   "metadata": {},
   "source": [
    "#### Number of sport centers"
   ]
  },
  {
   "cell_type": "code",
   "execution_count": 15,
   "metadata": {
    "collapsed": false
   },
   "outputs": [
    {
     "data": {
      "text/plain": [
       "11"
      ]
     },
     "execution_count": 15,
     "metadata": {},
     "output_type": "execute_result"
    }
   ],
   "source": [
    "db.nyc.count({\"leisure\": \"sports_centre\"})"
   ]
  },
  {
   "cell_type": "markdown",
   "metadata": {},
   "source": [
    "#### Number of restaurants"
   ]
  },
  {
   "cell_type": "code",
   "execution_count": 16,
   "metadata": {
    "collapsed": false
   },
   "outputs": [
    {
     "data": {
      "text/plain": [
       "132"
      ]
     },
     "execution_count": 16,
     "metadata": {},
     "output_type": "execute_result"
    }
   ],
   "source": [
    "db.nyc.count({\"amenity\": \"restaurant\"})"
   ]
  },
  {
   "cell_type": "markdown",
   "metadata": {},
   "source": [
    "#### Number of French restaurants"
   ]
  },
  {
   "cell_type": "code",
   "execution_count": 17,
   "metadata": {
    "collapsed": false
   },
   "outputs": [
    {
     "data": {
      "text/plain": [
       "6"
      ]
     },
     "execution_count": 17,
     "metadata": {},
     "output_type": "execute_result"
    }
   ],
   "source": [
    "db.nyc.count({\"amenity\": \"restaurant\", \"cuisine\": \"french\"})"
   ]
  },
  {
   "cell_type": "markdown",
   "metadata": {},
   "source": [
    "## 3. Additional Ideas\n",
    "\n",
    "During the analysis, I had noticed that the data had inconsistencies like abbreviation or incorrect data. This problem can be reduced by using two steps:\n",
    "1. By specifying the data standards.\n",
    "2. Having corrective action and validations in the form while inputing the data based on the type of data.\n",
    "\n",
    "\n",
    "### Additional data exploration using MongoDB queries\n",
    "\n",
    "                                                \n",
    "#### Top 10 appearing amenities"
   ]
  },
  {
   "cell_type": "code",
   "execution_count": 18,
   "metadata": {
    "collapsed": false
   },
   "outputs": [
    {
     "name": "stdout",
     "output_type": "stream",
     "text": [
      "{u'count': 300, u'_id': u'parking'}\n",
      "{u'count': 201, u'_id': u'bicycle_parking'}\n",
      "{u'count': 192, u'_id': u'place_of_worship'}\n",
      "{u'count': 189, u'_id': u'school'}\n",
      "{u'count': 132, u'_id': u'restaurant'}\n",
      "{u'count': 46, u'_id': u'fast_food'}\n",
      "{u'count': 42, u'_id': u'cafe'}\n",
      "{u'count': 34, u'_id': u'bank'}\n",
      "{u'count': 26, u'_id': u'fire_station'}\n",
      "{u'count': 26, u'_id': u'toilets'}\n"
     ]
    }
   ],
   "source": [
    "items = db.nyc.aggregate([{\"$match\":{\"amenity\":{\"$exists\":1}}}, {\"$group\":{\"_id\":\"$amenity\",\"count\":{\"$sum\":1}}}, {\"$sort\":{\"count\":-1}}, {\"$limit\":10}])\n",
    "\n",
    "for i in items:\n",
    "    print(i)"
   ]
  },
  {
   "cell_type": "markdown",
   "metadata": {},
   "source": [
    "#### All the cusine types"
   ]
  },
  {
   "cell_type": "code",
   "execution_count": 19,
   "metadata": {
    "collapsed": false
   },
   "outputs": [
    {
     "data": {
      "text/plain": [
       "[u'french',\n",
       " u'pizza',\n",
       " u'american',\n",
       " u'falafel',\n",
       " u'new_american',\n",
       " u'sandwich',\n",
       " u'burger',\n",
       " u'coffee_shop',\n",
       " u'thai',\n",
       " u'sushi',\n",
       " u'chinese',\n",
       " u'chicken',\n",
       " u'italian',\n",
       " u'regional',\n",
       " u'burger;chicken;pizza',\n",
       " u'soul_food',\n",
       " u'japanese',\n",
       " u'seafood',\n",
       " u'spanish',\n",
       " u'dessert',\n",
       " u'donut',\n",
       " u'vegan',\n",
       " u'mexican',\n",
       " u'seafood;steak',\n",
       " u'steak',\n",
       " u'ice_cream',\n",
       " u'vapor_lounge',\n",
       " u'caribbean',\n",
       " u'bagel',\n",
       " u'taiwanese',\n",
       " u'international',\n",
       " u'American',\n",
       " u'indian',\n",
       " u'peruvian',\n",
       " u'crepe',\n",
       " u'korean',\n",
       " u'bagel;chicken;american',\n",
       " u'greek',\n",
       " u'asian',\n",
       " u'soup',\n",
       " u'irish',\n",
       " u'southern',\n",
       " u'Columbian',\n",
       " u'fish',\n",
       " u'Po_Boys',\n",
       " u'mediterranean']"
      ]
     },
     "execution_count": 19,
     "metadata": {},
     "output_type": "execute_result"
    }
   ],
   "source": [
    "db.nyc.distinct(\"cuisine\")"
   ]
  },
  {
   "cell_type": "code",
   "execution_count": null,
   "metadata": {
    "collapsed": true
   },
   "outputs": [],
   "source": []
  }
 ],
 "metadata": {
  "anaconda-cloud": {},
  "kernelspec": {
   "display_name": "Python [Root]",
   "language": "python",
   "name": "Python [Root]"
  },
  "language_info": {
   "codemirror_mode": {
    "name": "ipython",
    "version": 2
   },
   "file_extension": ".py",
   "mimetype": "text/x-python",
   "name": "python",
   "nbconvert_exporter": "python",
   "pygments_lexer": "ipython2",
   "version": "2.7.12"
  }
 },
 "nbformat": 4,
 "nbformat_minor": 0
}
