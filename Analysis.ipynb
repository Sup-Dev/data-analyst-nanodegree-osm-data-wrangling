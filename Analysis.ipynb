{
 "cells": [
  {
   "cell_type": "markdown",
   "metadata": {},
   "source": [
    "## 1. Problems encountered in the map\n",
    "\n",
    "### I have downloaded a map of the New York City area and found some of the problems as follows.\n",
    "\n",
    "#### First lets find inconsistent postcode."
   ]
  },
  {
   "cell_type": "code",
   "execution_count": 58,
   "metadata": {
    "collapsed": true
   },
   "outputs": [],
   "source": [
    "from pymongo import MongoClient\n",
    "\n",
    "import re\n",
    "\n",
    "client = MongoClient(\"mongodb://localhost:27017\")\n",
    "db = client.osm\n",
    "\n",
    "postcode_regex = r'^[0-9]{5}$'"
   ]
  },
  {
   "cell_type": "markdown",
   "metadata": {},
   "source": [
    "Actual number of postcodes"
   ]
  },
  {
   "cell_type": "code",
   "execution_count": 59,
   "metadata": {
    "collapsed": false
   },
   "outputs": [
    {
     "data": {
      "text/plain": [
       "36992"
      ]
     },
     "execution_count": 59,
     "metadata": {},
     "output_type": "execute_result"
    }
   ],
   "source": [
    "db.nyc.count({\"addr.postcode\": {\"$exists\": 1}})"
   ]
  },
  {
   "cell_type": "markdown",
   "metadata": {},
   "source": [
    "Number of consistent postcodes."
   ]
  },
  {
   "cell_type": "code",
   "execution_count": 60,
   "metadata": {
    "collapsed": false
   },
   "outputs": [
    {
     "data": {
      "text/plain": [
       "36964"
      ]
     },
     "execution_count": 60,
     "metadata": {},
     "output_type": "execute_result"
    }
   ],
   "source": [
    "db.nyc.count({\"addr.postcode\": {\"$regex\": postcode_regex}})"
   ]
  },
  {
   "cell_type": "markdown",
   "metadata": {},
   "source": [
    "Lets not look at all the inconsistent postcodes"
   ]
  },
  {
   "cell_type": "code",
   "execution_count": 61,
   "metadata": {
    "collapsed": false
   },
   "outputs": [
    {
     "name": "stdout",
     "output_type": "stream",
     "text": [
      "12\n",
      "NY 10703\n",
      "NY 10533\n",
      "NY 10533\n",
      "NY 10533\n",
      "NY 10533\n",
      "NY 10533\n",
      "NY 10533\n",
      "NY 10533\n",
      "NY 10533\n",
      "NY 10533\n",
      "08854-8006\n",
      "08901-2867\n",
      "08854-8062\n",
      "08854-8020\n",
      "08901-8520\n",
      "08901-8529\n",
      "08901-8536\n",
      "08901-8519\n",
      "08901-2832\n",
      "08854-8009\n",
      "08854-8000\n",
      "08854-8063\n",
      "08854-8019\n",
      "08854-8031\n",
      "08901-8542\n",
      "08854-8040\n",
      "08901-8502\n"
     ]
    }
   ],
   "source": [
    "inconsistent_postcodes = db.nyc.find({\"addr.postcode\": {\"$not\": re.compile(postcode_regex), \"$exists\": 1}})\n",
    "\n",
    "for item in inconsistent_postcodes:\n",
    "    print(item['addr']['postcode'])"
   ]
  },
  {
   "cell_type": "markdown",
   "metadata": {},
   "source": [
    "There are three types of inconsistencies in the data. The first can be removed by dropping the \"NY\" and trimming the string for white spaces. And the second can be corrected by dropping the data after the \"-\". The finally one is invalid postcode.\n",
    "\n",
    "Lets, correct these two issues."
   ]
  },
  {
   "cell_type": "code",
   "execution_count": 62,
   "metadata": {
    "collapsed": false
   },
   "outputs": [],
   "source": [
    "inconsistent_postcodes = db.nyc.find({\"addr.postcode\": {\"$not\": re.compile(postcode_regex), \"$exists\": 1}})\n",
    "\n",
    "for item in inconsistent_postcodes:\n",
    "    postcode = item['addr']['postcode']\n",
    "    if postcode[:2] == 'NY':\n",
    "        cleaned_data = postcode[2:].strip()\n",
    "        item_id = item['_id']\n",
    "        db.nyc.update_one({'_id': item_id}, {\"$set\": {\"addr.postcode\": cleaned_data}})\n",
    "    elif '-' in postcode:\n",
    "        cleaned_data = postcode.split('-')[0]\n",
    "        item_id = item['_id']\n",
    "        db.nyc.update_one({'_id': item_id}, {\"$set\": {\"addr.postcode\": cleaned_data}})"
   ]
  },
  {
   "cell_type": "markdown",
   "metadata": {},
   "source": [
    "#### Now, lets check to see if there are any inconsistencies in the street address"
   ]
  },
  {
   "cell_type": "code",
   "execution_count": 63,
   "metadata": {
    "collapsed": false
   },
   "outputs": [
    {
     "name": "stdout",
     "output_type": "stream",
     "text": [
      "Convent Lane\n",
      "Monroe St\n",
      "1st St\n",
      "Park Ave\n",
      "Madison St\n",
      "Jackson St\n",
      "Clinton St\n",
      "2nd St\n",
      "Newark St\n",
      "4th St\n",
      "4th St\n",
      "3rd St\n",
      "Washington St\n",
      "Adams St\n",
      "Garden St\n",
      "Adams St\n",
      "Hudson St\n",
      "7th St\n",
      "Bloomfield St\n",
      "Clinton St\n",
      "Park Ave\n",
      "Madison St\n",
      "East 240th Street\n",
      "Webb Avenue\n",
      "Bainbridge Avenue\n",
      "Braddock Avenue\n",
      "Main Street\n",
      "White Plains Road\n",
      "East 2nd Street\n",
      "Amsterdam Avenue\n",
      "Front Street\n",
      "Grand Street\n",
      "St. Nicholas Avenue\n",
      "Old Mill Road\n",
      "Broadway\n",
      "Ellis Pky\n",
      "Broadway\n",
      "North End Avenue\n",
      "Chambers Street\n",
      "Speedwell Ave\n",
      "East 52nd Street\n",
      "West Beech Street\n",
      "West 58th Street\n",
      "56th Street\n",
      "South Orange Avenue\n",
      "Bedford Avenue\n",
      "Washington Avenue\n",
      "Sterling Place\n",
      "Nostrand Avenue\n",
      "Schenectady Avenue\n"
     ]
    }
   ],
   "source": [
    "inconsistent_streets = db.nyc.find({\"addr.street\": {\"$exists\": 1}}).limit(50)\n",
    "\n",
    "for item in inconsistent_streets:\n",
    "    print(item['addr']['street'])"
   ]
  },
  {
   "cell_type": "markdown",
   "metadata": {},
   "source": [
    "Three abbreviation are clearly noticeable. The first is that \"St\" is used instead of \"Street\" and \"Ave.\" is used in place of \"Avenue\". Finally, \"St.\" need to be changed to \"St.\"\n",
    "\n",
    "Lets fix these problems"
   ]
  },
  {
   "cell_type": "code",
   "execution_count": 73,
   "metadata": {
    "collapsed": false,
    "scrolled": true
   },
   "outputs": [],
   "source": [
    "street_regex = \"((St|Pky|Ave\\.)$)|(^St.\\s)\"\n",
    "\n",
    "inconsistent_streets = db.nyc.find({\"addr.street\": {\"$regex\": re.compile(street_regex)}})\n",
    "\n",
    "for item in inconsistent_streets:\n",
    "    print(item['addr']['street'])"
   ]
  },
  {
   "cell_type": "markdown",
   "metadata": {},
   "source": [
    "Lets fix these two abbreviations."
   ]
  },
  {
   "cell_type": "code",
   "execution_count": 72,
   "metadata": {
    "collapsed": true
   },
   "outputs": [],
   "source": [
    "inconsistent_streets = db.nyc.find({\"addr.street\": {\"$regex\": re.compile(street_regex)}})\n",
    "\n",
    "for item in inconsistent_streets:\n",
    "    street = item['addr']['street']\n",
    "    if street[-2:] == \"St\":\n",
    "        cleaned_data = street + \"reet\"\n",
    "        item_id = item['_id']\n",
    "        db.nyc.update_one({'_id': item_id}, {\"$set\": {\"addr.street\": cleaned_data}})\n",
    "    elif street[:3] == \"St.\":\n",
    "        cleaned_data = \"Street\" + street[4:]\n",
    "        item_id = item['_id']\n",
    "        db.nyc.update_one({'_id': item_id}, {\"$set\": {\"addr.street\": cleaned_data}})\n",
    "    elif street[-4:] == \"Ave.\":\n",
    "        cleaned_data = street[:-1] + \"nue\"\n",
    "        item_id = item['_id']\n",
    "        db.nyc.update_one({'_id': item_id}, {\"$set\": {\"addr.street\": cleaned_data}})\n",
    "    elif street[-3:] == \"Pky\":\n",
    "        cleaned_data = street[:-3] + \"Parkway\"\n",
    "        item_id = item['_id']\n",
    "        db.nyc.update_one({'_id': item_id}, {\"$set\": {\"addr.street\": cleaned_data}})"
   ]
  },
  {
   "cell_type": "markdown",
   "metadata": {},
   "source": [
    "While querying for the above abbreviations we have found another abbreviation, \"E\" is used in place of \"East\". Lets try and look if there are more direction based streets."
   ]
  },
  {
   "cell_type": "code",
   "execution_count": 74,
   "metadata": {
    "collapsed": false
   },
   "outputs": [],
   "source": [
    "direction_street_regex = \"^[NSEW]\\s\"\n",
    "\n",
    "inconsistent_streets = db.nyc.find({\"addr.street\": {\"$regex\": re.compile(direction_street_regex)}})\n",
    "\n",
    "for item in inconsistent_streets:\n",
    "    print(item['addr']['street'])"
   ]
  },
  {
   "cell_type": "markdown",
   "metadata": {},
   "source": [
    "Lets fix this directional the abbreviations."
   ]
  },
  {
   "cell_type": "code",
   "execution_count": 75,
   "metadata": {
    "collapsed": true
   },
   "outputs": [],
   "source": [
    "inconsistent_streets = db.nyc.find({\"addr.street\": {\"$regex\": re.compile(direction_street_regex)}})\n",
    "\n",
    "for item in inconsistent_streets:\n",
    "    street = item['addr']['street']\n",
    "    if street[0] == \"N\":\n",
    "        cleaned_data = \"North\" + street[1:]\n",
    "        item_id = item['_id']\n",
    "        db.nyc.update_one({'_id': item_id}, {\"$set\": {\"addr.street\": cleaned_data}})\n",
    "    elif street[0] == \"S\":\n",
    "        cleaned_data = \"South\" + street[1:]\n",
    "        item_id = item['_id']\n",
    "        db.nyc.update_one({'_id': item_id}, {\"$set\": {\"addr.street\": cleaned_data}})\n",
    "    elif street[0] == \"E\":\n",
    "        cleaned_data = \"East\" + street[1:]\n",
    "        item_id = item['_id']\n",
    "        db.nyc.update_one({'_id': item_id}, {\"$set\": {\"addr.street\": cleaned_data}})\n",
    "    elif street[0] == \"W\":\n",
    "        cleaned_data = \"West\" + street[1:]\n",
    "        item_id = item['_id']\n",
    "        db.nyc.update_one({'_id': item_id}, {\"$set\": {\"addr.street\": cleaned_data}})"
   ]
  },
  {
   "cell_type": "markdown",
   "metadata": {},
   "source": [
    "## 2. Data Overview"
   ]
  },
  {
   "cell_type": "code",
   "execution_count": null,
   "metadata": {
    "collapsed": true
   },
   "outputs": [],
   "source": []
  }
 ],
 "metadata": {
  "anaconda-cloud": {},
  "kernelspec": {
   "display_name": "Python [Root]",
   "language": "python",
   "name": "Python [Root]"
  },
  "language_info": {
   "codemirror_mode": {
    "name": "ipython",
    "version": 2
   },
   "file_extension": ".py",
   "mimetype": "text/x-python",
   "name": "python",
   "nbconvert_exporter": "python",
   "pygments_lexer": "ipython2",
   "version": "2.7.12"
  }
 },
 "nbformat": 4,
 "nbformat_minor": 0
}
